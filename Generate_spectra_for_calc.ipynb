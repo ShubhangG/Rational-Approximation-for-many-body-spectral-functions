{
 "cells": [
  {
   "cell_type": "code",
   "execution_count": 3,
   "metadata": {},
   "outputs": [],
   "source": [
    "import numpy as np\n",
    "from ggce import Model\n",
    "from ggce import System\n",
    "from ggce import DenseSolver\n",
    "import matplotlib.pyplot as plt\n",
    "import os"
   ]
  },
  {
   "cell_type": "code",
   "execution_count": null,
   "metadata": {},
   "outputs": [],
   "source": [
    "Omegas = np.linspace(3,4,100)\n",
    "couplings = np.linspace(0,0.1,100)\n",
    "k=0.0\n",
    "w = np.linspace(-4,4,400)\n",
    "full_data = {}\n",
    "full_data[\"omega_grid\"] = w\n",
    "full_data[\"k/pi\"] = k\n",
    "full_data[\"model_type\"] = \"Holstein\"\n",
    "full_data[\"M\"] = 2\n",
    "full_data[\"N\"] = 4\n",
    "full_data[\"Omega\"] = Omegas\n",
    "full_data[\"dimensionless_coupling\"]=couplings"
   ]
  },
  {
   "cell_type": "code",
   "execution_count": null,
   "metadata": {},
   "outputs": [],
   "source": [
    "if not os.path.exists(os.path.join(os.getcwd(),'2x2gridmultiparameter_spectralfunctions')):\n",
    "    os.mkdir(os.path.join(os.getcwd(),'2x2gridmultiparameter_spectralfunctions'))"
   ]
  },
  {
   "cell_type": "code",
   "execution_count": null,
   "metadata": {},
   "outputs": [],
   "source": [
    "%%capture\n",
    "import warnings\n",
    "warnings.filterwarnings(\"ignore\")\n",
    "spectras = np.zeros((len(couplings),len(Omegas),len(w)))\n",
    "for coup_idx,coup in enumerate(couplings):\n",
    "    omeg_spectras_for_each_coupling = np.zeros((len(Omegas),len(w)))\n",
    "    for omeg_idx,phon_freq in enumerate(Omegas):\n",
    "        model = Model.from_parameters(hopping=1.0)\n",
    "        model.add_(\n",
    "                    \"Holstein\",\n",
    "                    phonon_frequency= phon_freq, #Omega Larger is easier to converge\n",
    "                    phonon_extent=2,    #Cloud extent\n",
    "                    phonon_number=4,    #number of phonons\n",
    "                    dimensionless_coupling_strength=coup     #g    The smaller the easier to converge\n",
    "                    #coupling_strength=2.0\n",
    "                    )\n",
    "        system= System(model)\n",
    "        solver = DenseSolver(system)\n",
    "        G = solver.greens_function(k,w,eta=0.05,pbar=True)\n",
    "        A = -G.imag/np.pi\n",
    "        spectras[coup_idx,omeg_idx,:] = A\n",
    "        omeg_spectras_for_each_coupling[omeg_idx,:] = A\n",
    "    filename = f\"Spectras_{len(Omegas)}Omegas_{Omegas[0]}to{Omegas[-1]}_for_coupling_{round(coup,3)}\"\n",
    "    np.save(os.path.join(os.getcwd(),'2x2gridmultiparameter_spectralfunctions',filename),omeg_spectras_for_each_coupling)\n",
    "\n",
    "full_data[\"A\"] = spectras\n",
    "np.save(\"2x2gridmultiparameter_spectralfunctions/All_multiparameter_spectras_100x100x400_Omega3to4_coupling0to_01\",spectras)"
   ]
  },
  {
   "cell_type": "code",
   "execution_count": null,
   "metadata": {},
   "outputs": [],
   "source": []
  }
 ],
 "metadata": {
  "kernelspec": {
   "display_name": "Python 3.10.6 64-bit",
   "language": "python",
   "name": "python3"
  },
  "language_info": {
   "codemirror_mode": {
    "name": "ipython",
    "version": 3
   },
   "file_extension": ".py",
   "mimetype": "text/x-python",
   "name": "python",
   "nbconvert_exporter": "python",
   "pygments_lexer": "ipython3",
   "version": "3.10.12"
  },
  "vscode": {
   "interpreter": {
    "hash": "916dbcbb3f70747c44a77c7bcd40155683ae19c65e1c03b4aa3499c5328201f1"
   }
  }
 },
 "nbformat": 4,
 "nbformat_minor": 2
}
